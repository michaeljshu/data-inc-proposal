{
 "cells": [
  {
   "cell_type": "code",
   "execution_count": 1,
   "metadata": {},
   "outputs": [
    {
     "name": "stderr",
     "output_type": "stream",
     "text": [
      "C:\\Users\\Michael\\Anaconda3\\lib\\site-packages\\statsmodels\\compat\\pandas.py:56: FutureWarning:\n",
      "\n",
      "The pandas.core.datetools module is deprecated and will be removed in a future version. Please use the pandas.tseries module instead.\n",
      "\n"
     ]
    }
   ],
   "source": [
    "import numpy as np\n",
    "import pandas as pd\n",
    "import matplotlib as mpl\n",
    "import matplotlib.pyplot as plt\n",
    "import matplotlib.cm as cm\n",
    "import plotly\n",
    "import plotly.plotly as py\n",
    "from scipy import stats\n",
    "from sklearn.linear_model import LinearRegression, LogisticRegression\n",
    "from sklearn.ensemble import RandomForestRegressor, RandomForestClassifier\n",
    "import sklearn.metrics\n",
    "import statsmodels.api as sm\n",
    "import statsmodels.formula.api as smf\n",
    "from functools import reduce\n",
    "from operator import and_\n",
    "import operator\n",
    "import time"
   ]
  },
  {
   "cell_type": "markdown",
   "metadata": {},
   "source": [
    "# Initialization and definitions"
   ]
  },
  {
   "cell_type": "code",
   "execution_count": 2,
   "metadata": {
    "collapsed": true
   },
   "outputs": [],
   "source": [
    "dfs = {} # dict of data frames for each year\n",
    "filtered_dfs = {} # dict of data frames with processed and filtered columns\n",
    "model_dfs = {} # raw data for fit\n",
    "model_filtered_dfs = {} # filtered data for fit"
   ]
  },
  {
   "cell_type": "code",
   "execution_count": 3,
   "metadata": {
    "collapsed": true
   },
   "outputs": [],
   "source": [
    "state_dict = { 1: 'AL',  2: 'AK',  4: 'AZ',  5: 'AR',  6: 'CA',  8: 'CO',  9: 'CT',\n",
    "              10: 'DE', 12: 'FL', 13: 'GA', 15: 'HI', 16: 'ID', 17: 'IL', 18: 'IN',\n",
    "              19: 'IA', 20: 'KS', 21: 'KY', 22: 'LA', 23: 'ME', 24: 'MD', 25: 'MA',\n",
    "              26: 'MI', 27: 'MN', 28: 'MS', 29: 'MO', 30: 'MT', 31: 'NE', 32: 'NV',\n",
    "              33: 'NH', 34: 'NJ', 35: 'NM', 36: 'NY', 37: 'NC', 38: 'ND', 39: 'OH',\n",
    "              40: 'OK', 41: 'OR', 42: 'PA', 44: 'RI', 45: 'SC', 46: 'SD', 47: 'TN',\n",
    "              48: 'TX', 49: 'UT', 50: 'VT', 51: 'VA', 53: 'WA', 54: 'WV', 55: 'WI',\n",
    "              56: 'WY'}\n",
    "states = list(state_dict.values())\n",
    "\n",
    "factors = ['NonDrinker', 'NonSmoker', 'NotOverweight', 'Exercises',\n",
    "           'State', 'EnoughSleep', 'NoDepressive']\n",
    "model_factors = ['NoPhys14D', 'NoMent14D', 'HasHealthPlan', 'MedCostOK',\n",
    "                 'Checkup1Yr', 'Exercises', 'EnoughSleep', 'NeverHeartAttack',\n",
    "                 'NeverHeartDisease', 'NeverStroke', 'NoAsthma',\n",
    "                 'NoOtherCancer', 'NoCOPD', 'NoArthritis', 'NoDepressive',\n",
    "                 'NoKidneyDisease', 'NoDiabetes', 'Dentist1Yr', 'NoTeethRemoved',\n",
    "                 'AttendedCollege', 'Veteran', 'ChildrenInHousehold', 'NotOverweight',\n",
    "                 'NotDeaf', 'NotBlind', 'DecisionOK', 'DressOK',\n",
    "                 'WalkOK', 'AloneOK', 'NonSmoker', 'NonECig', 'NonDrinker',\n",
    "                 'AlwaysSeatbelt', 'NoHIVRisk',\n",
    "                 '_INCOMG',\n",
    "                 'NoSkinCancer', 'FluShot1Yr', 'TestedHIV', 'HasDoctor'\n",
    "                ]\n",
    "\n",
    "value_filter = {'_STATE': state_dict.keys(),\n",
    "                'GENHLTH': [1,2,3,4,5],\n",
    "                '_PHYS14D': [1,2,3],\n",
    "                '_MENT14D': [1,2,3],\n",
    "                'HLTHPLN1': [1,2],\n",
    "                'PERSDOC2': [1,2,3],\n",
    "                'MEDCOST': [1,2],\n",
    "                'CHECKUP1': [1,2,3,4],\n",
    "                'EXERANY2': [1,2],\n",
    "                'SLEPTIM1': range(1, 25),\n",
    "                'CVDINFR4': [1,2],\n",
    "                'CVDCRHD4': [1,2],\n",
    "                'CVDSTRK3': [1,2],\n",
    "                '_ASTHMS1': [1,2,3],\n",
    "                'CHCSCNCR': [1,2],\n",
    "                'CHCOCNCR': [1,2],\n",
    "                'CHCCOPD1': [1,2],\n",
    "                'HAVARTH3': [1,2],\n",
    "                'ADDEPEV2': [1,2],\n",
    "                'CHCKIDNY': [1,2],\n",
    "                'DIABETE3': [1,2,3,4],\n",
    "                '_DENVST2': [1,2],\n",
    "                'RMVTETH3': [1,2,3,8],\n",
    "                'EDUCA': [1,2,3,4,5,6],\n",
    "                'VETERAN3': [1,2],\n",
    "                'CHILDREN': range(1, 89),\n",
    "                '_INCOMG': [1,2,3,4,5],\n",
    "                '_RFBMI5': [1,2],\n",
    "                '_BMI5CAT': [1,2,3,4],\n",
    "                'DEAF': [1,2],\n",
    "                'BLIND': [1,2],\n",
    "                'DECIDE': [1,2],\n",
    "                'DIFFWALK': [1,2],\n",
    "                'DIFFDRES': [1,2],\n",
    "                'DIFFALON': [1,2],\n",
    "                '_RFSMOK3': [1,2],\n",
    "                'ECIGARET': [1,2],\n",
    "                '_CURECIG': [1,2],\n",
    "                'DRNKANY5': [1,2],\n",
    "                'FLUSHOT6': [1,2],\n",
    "                'SEATBELT': [1,2,3,4,5,8],\n",
    "                'BLDSTOOL': [1,2,0],\n",
    "                'HADSIGM3': [1,2,0],\n",
    "                'HIVTST6': [1,2],\n",
    "                'HIVRISK4': [1,2]\n",
    "               }\n",
    "\n",
    "f_convert = {'State': ['_STATE', state_dict],\n",
    "             'VeryGoodHealth': ['GENHLTH', {1: True, 2: True, 3: False, 4: False, 5: False}],\n",
    "             'GoodHealth': ['GENHLTH', {1: True, 2: True, 3: True, 4: False, 5: False}],\n",
    "             'NoPhys14D': ['_PHYS14D', {1: True, 2: False, 3: False}],\n",
    "             'NoMent14D': ['_MENT14D', {1: True, 2: False, 3: False}],\n",
    "             'HasHealthPlan': ['HLTHPLN1', {1: True, 2: False}],\n",
    "             'HasDoctor': ['PERSDOC2', {1: True, 2: True, 3: False}],\n",
    "             'MedCostOK': ['MEDCOST', {2: True, 1: False}],\n",
    "             'Checkup1Yr': ['CHECKUP1', {1: True, 2: False, 3: False, 4: False}],\n",
    "             'Exercises': ['EXERANY2', {1: True, 2: False}],\n",
    "             'EnoughSleep': ['SLEPTIM1', {h: (h >= 8) for h in range(1, 25)}],\n",
    "             'NeverHeartAttack': ['CVDINFR4', {2: True, 1: False}],\n",
    "             'NeverHeartDisease': ['CVDCRHD4', {2: True, 1: False}],\n",
    "             'NeverStroke': ['CVDSTRK3', {2: True, 1: False}],\n",
    "             'NoAsthma': ['_ASTHMS1', {2: True, 3: True, 1: False}],\n",
    "             'NoSkinCancer': ['CHCSCNCR', {2: True, 1: False}],\n",
    "             'NoOtherCancer': ['CHCOCNCR', {2: True, 1: False}],\n",
    "             'NoCOPD': ['CHCCOPD1', {2: True, 1: False}],\n",
    "             'NoArthritis': ['HAVARTH3', {2: True, 1: False}],\n",
    "             'NoDepressive': ['ADDEPEV2', {2: True, 1: False}],\n",
    "             'NoKidneyDisease': ['CHCKIDNY', {2: True, 1: False}],\n",
    "             'NoDiabetes': ['DIABETE3', {2: True, 3: True, 4: True, 1: False}],\n",
    "             'Dentist1Yr': ['_DENVST2', {1: True, 2: False}],\n",
    "             'NoTeethRemoved': ['RMVTETH3', {8: True, 1: False, 2: False, 3: False}],\n",
    "             'AttendedCollege': ['EDUCA', {5: True, 6: True, 1: False, 2: False, 3: False, 4: False}],\n",
    "             'Veteran': ['VETERAN3', {1: True, 2: False}],\n",
    "             'ChildrenInHousehold': ['CHILDREN', {c: (c != 88) for c in range(1, 89)}],\n",
    "             'NotOverweight': ['_RFBMI5', {1: True, 2: False}],\n",
    "             'NotUnderweight': ['_BMI5CAT', {2: True, 1: False}],\n",
    "             'NotDeaf': ['DEAF', {2: True, 1: False}],\n",
    "             'NotBlind': ['BLIND', {2: True, 1: False}],\n",
    "             'DecisionOK': ['DECIDE', {2: True, 1: False}],\n",
    "             'DressOK': ['DIFFDRES', {2: True, 1: False}],\n",
    "             'WalkOK': ['DIFFWALK', {2: True, 1: False}],\n",
    "             'AloneOK': ['DIFFALON', {2: True, 1: False}],\n",
    "             'NonSmoker': ['_RFSMOK3', {1: True, 2: False}],\n",
    "             'NonECig': ['_CURECIG', {1: True, 2: False}],\n",
    "             'NonDrinker': ['DRNKANY5', {2: True, 1: False}],\n",
    "             'FluShot1Yr': ['FLUSHOT6', {1: True, 2: False}],\n",
    "             'AlwaysSeatbelt': ['SEATBELT', {1: True, 8: True, 2: False, 3: False, 4: False, 5: False}],\n",
    "             'TestedHIV': ['HIVTST6', {1: True, 2: False}],\n",
    "             'NoHIVRisk': ['HIVRISK4', {2: True, 1: False}]\n",
    "            }\n",
    "\n",
    "f_label = {'NotOverweight': 'Not overweight',\n",
    "           'NonSmoker': 'Non-smoker',\n",
    "           'NoDepressive': 'No depressive disorder',\n",
    "           'Exercises': 'Exercises regularly',\n",
    "           'EnoughSleep': '8+ hours of sleep'\n",
    "          }"
   ]
  },
  {
   "cell_type": "code",
   "execution_count": 4,
   "metadata": {
    "collapsed": true
   },
   "outputs": [],
   "source": [
    "def load_data(year):\n",
    "    print('Loading data for year ' + str(year))\n",
    "    layout_fname = 'C:/Users/Michael/Documents/data incubator application/brfss' + str(year) + '_layout.csv'\n",
    "    data_fname = 'C:/Users/Michael/Documents/data incubator application/LLCP' + str(year) + '.ASC'\n",
    "    layout = pd.read_csv(layout_fname, names=['StartCol', 'Name', 'Length'])\n",
    "    keep_columns = (['GENHLTH'] +\n",
    "                    [f_convert[f][0] for f in factors if f in f_convert.keys()] +\n",
    "                    [f for f in factors if f not in f_convert.keys()])\n",
    "    layout_filtered = layout[layout['Name'].isin(keep_columns)]\n",
    "    colspecs = list(zip(layout_filtered['StartCol'] - 1,\n",
    "                        layout_filtered['StartCol'] + layout_filtered['Length'] - 1))\n",
    "    df = pd.read_fwf(data_fname, colspecs=colspecs,\n",
    "                     header=None, names=layout_filtered['Name'])\n",
    "#     df = df[~df['_STATE'].isin([11, 66, 72, 78])] # Drop DC, Guam, Puerto Rico, Virgin Islands\n",
    "#     df['State'] = df['_STATE'].replace(state_dict)\n",
    "    print('Finished loading data for year ' + str(year))\n",
    "    return df\n",
    "\n",
    "def load_data_model(year):\n",
    "    # Load data with more columns for use in model fitting.\n",
    "    print('Loading data for year ' + str(year))\n",
    "    layout_fname = 'C:/Users/Michael/Documents/data incubator application/brfss' + str(year) + '_layout.csv'\n",
    "    data_fname = 'C:/Users/Michael/Documents/data incubator application/LLCP' + str(year) + '.ASC'\n",
    "    layout = pd.read_csv(layout_fname, names=['StartCol', 'Name', 'Length'])\n",
    "    keep_columns = (['GENHLTH', '_STATE'] +\n",
    "                    [f_convert[f][0] for f in model_factors if f in f_convert.keys()] +\n",
    "                    [f for f in model_factors if f not in f_convert.keys()])\n",
    "    layout_filtered = layout[layout['Name'].isin(keep_columns)]\n",
    "    colspecs = list(zip(layout_filtered['StartCol'] - 1,\n",
    "                        layout_filtered['StartCol'] + layout_filtered['Length'] - 1))\n",
    "    df = pd.read_fwf(data_fname, colspecs=colspecs,\n",
    "                     header=None, names=layout_filtered['Name'])\n",
    "    print('Finished loading data for year ' + str(year))\n",
    "    return df\n",
    "\n",
    "def filter_for_map(year, factor):\n",
    "    final_columns = ['GENHLTH', 'State', factor]\n",
    "    keep_columns = []\n",
    "    \n",
    "    # Identify raw and processed final columns\n",
    "    for col in final_columns:\n",
    "        if col in dfs[year].columns:\n",
    "            keep_columns += [col]\n",
    "        else:\n",
    "            keep_columns += [f_convert[col][0]]\n",
    "    df = dfs[year][keep_columns]\n",
    "    \n",
    "    # Remove unwanted values\n",
    "    df = df[reduce(and_, [df[col].isin(value_filter[col]) for col in df.columns])]\n",
    "    \n",
    "    # Create processed columns\n",
    "    for col in final_columns:\n",
    "        if col not in dfs[year].columns:\n",
    "            df[col] = df[f_convert[col][0]].map(f_convert[col][1])\n",
    "            \n",
    "    return df\n",
    "\n",
    "def filter_for_bar(years, factors, group=None):\n",
    "    final_columns = ['GENHLTH'] + factors\n",
    "    if group is not None:\n",
    "        final_columns += [group]\n",
    "    keep_columns = []\n",
    "    dfs_filtered = {}\n",
    "    \n",
    "    for i, year in enumerate(years):\n",
    "        \n",
    "        # Identify raw and processed final columns\n",
    "        if i == 0:\n",
    "            for col in final_columns:\n",
    "                if col in dfs[year].columns:\n",
    "                    keep_columns += [col]\n",
    "                else:\n",
    "                    keep_columns += [f_convert[col][0]]\n",
    "\n",
    "        df = dfs[year][keep_columns]\n",
    "\n",
    "        # Remove unwanted values\n",
    "        df = df[reduce(and_, [df[col].isin(value_filter[col]) for col in df.columns])]\n",
    "\n",
    "        # Create processed columns\n",
    "        for col in final_columns:\n",
    "            if col not in dfs[year].columns:\n",
    "                df[col] = df[f_convert[col][0]].map(f_convert[col][1])\n",
    "        \n",
    "        dfs_filtered[year] = df\n",
    "\n",
    "    return dfs_filtered\n",
    "\n",
    "def filter_for_model(year, group=None):\n",
    "    final_columns = ['GENHLTH', 'VeryGoodHealth', 'GoodHealth', 'State'] + model_factors\n",
    "    if group is not None:\n",
    "        final_columns += [group]\n",
    "    keep_columns = []\n",
    "    \n",
    "    # Identify raw and processed final columns\n",
    "    for col in final_columns:\n",
    "        if col in model_dfs[year].columns:\n",
    "            if col not in keep_columns:\n",
    "                keep_columns += [col]\n",
    "        else:\n",
    "            if f_convert[col][0] not in keep_columns:\n",
    "                keep_columns += [f_convert[col][0]]\n",
    "\n",
    "    df = model_dfs[year][keep_columns]\n",
    "\n",
    "    # Remove unwanted values\n",
    "    print('Before filtering: df length is ' + str(len(df)))\n",
    "    df = df[reduce(and_, [df[col].isin(value_filter[col]) for col in df.columns])]\n",
    "    print('After filtering: df length is ' + str(len(df)))\n",
    "\n",
    "    # Create processed columns\n",
    "    for col in final_columns:\n",
    "        if col not in model_dfs[year].columns:\n",
    "            df[col] = df[f_convert[col][0]].map(f_convert[col][1])\n",
    "\n",
    "    return df"
   ]
  },
  {
   "cell_type": "markdown",
   "metadata": {},
   "source": [
    "# Choropleth map"
   ]
  },
  {
   "cell_type": "code",
   "execution_count": 5,
   "metadata": {},
   "outputs": [
    {
     "name": "stdout",
     "output_type": "stream",
     "text": [
      "Loading data for year 2016\n",
      "Finished loading data for year 2016\n"
     ]
    }
   ],
   "source": [
    "year = 2016\n",
    "if year not in dfs.keys():\n",
    "    dfs[year] = load_data(year)"
   ]
  },
  {
   "cell_type": "code",
   "execution_count": 6,
   "metadata": {
    "collapsed": true
   },
   "outputs": [],
   "source": [
    "factor = 'NotOverweight'\n",
    "filtered_df = filter_for_map(2016, factor)\n",
    "agg_true = filtered_df[['State', 'GENHLTH']][filtered_df[factor] == True].groupby('State').agg(np.mean)\n",
    "agg_false = filtered_df[['State', 'GENHLTH']][filtered_df[factor] == False].groupby('State').agg(np.mean)\n",
    "agg_diff = agg_false - agg_true"
   ]
  },
  {
   "cell_type": "code",
   "execution_count": 8,
   "metadata": {},
   "outputs": [
    {
     "data": {
      "text/html": [
       "<iframe id=\"igraph\" scrolling=\"no\" style=\"border:none;\" seamless=\"seamless\" src=\"https://plot.ly/~mshu1/14.embed\" height=\"525px\" width=\"100%\"></iframe>"
      ],
      "text/plain": [
       "<plotly.tools.PlotlyDisplay object>"
      ]
     },
     "execution_count": 8,
     "metadata": {},
     "output_type": "execute_result"
    }
   ],
   "source": [
    "for col in agg_diff.columns:\n",
    "    agg_diff[col] = agg_diff[col].astype(str)\n",
    "\n",
    "scl = [[0.0, 'rgb(180,230,180)'], [1.0, 'rgb(80,150,80)']]\n",
    "\n",
    "agg_diff['text'] = agg_diff.index + '<br>' + 'Health score difference '+ agg_diff['GENHLTH']\n",
    "\n",
    "data = [dict(type='choropleth',\n",
    "             colorscale = scl,\n",
    "             autocolorscale = False,\n",
    "             locations = agg_diff.index,\n",
    "             z = agg_diff['GENHLTH'].astype(float),\n",
    "             locationmode = 'USA-states',\n",
    "             text = agg_diff['text'],\n",
    "             marker = dict(line = dict (color = 'rgb(255,255,255)', width = 2)),\n",
    "             colorbar = dict(title = 'Difference in<br>mean health score'))]\n",
    "\n",
    "layout = dict(title = ('Difference in Self-Reported General Health<br>' +\n",
    "                       'for overweight and non-overweight individuals by State'),\n",
    "              geo = dict(scope='usa',\n",
    "                         projection=dict( type='albers usa' ),\n",
    "                         showlakes = True,\n",
    "                         lakecolor = 'rgb(255, 255, 255)'))\n",
    "    \n",
    "fig = dict(data=data, layout=layout)\n",
    "py.iplot(fig, filename='overweight-map')"
   ]
  },
  {
   "cell_type": "markdown",
   "metadata": {},
   "source": [
    "Static copy of the image:"
   ]
  },
  {
   "cell_type": "markdown",
   "metadata": {},
   "source": [
    "<img src='overweight-map.png'>"
   ]
  },
  {
   "cell_type": "code",
   "execution_count": 9,
   "metadata": {
    "collapsed": true
   },
   "outputs": [],
   "source": [
    "factor = 'NoDepressive'\n",
    "filtered_df = filter_for_map(2016, factor)\n",
    "agg_true = filtered_df[['State', 'GENHLTH']][filtered_df[factor] == True].groupby('State').agg(np.mean)\n",
    "agg_false = filtered_df[['State', 'GENHLTH']][filtered_df[factor] == False].groupby('State').agg(np.mean)\n",
    "agg_diff = agg_false - agg_true"
   ]
  },
  {
   "cell_type": "code",
   "execution_count": 10,
   "metadata": {},
   "outputs": [
    {
     "data": {
      "text/html": [
       "<iframe id=\"igraph\" scrolling=\"no\" style=\"border:none;\" seamless=\"seamless\" src=\"https://plot.ly/~mshu1/16.embed\" height=\"525px\" width=\"100%\"></iframe>"
      ],
      "text/plain": [
       "<plotly.tools.PlotlyDisplay object>"
      ]
     },
     "execution_count": 10,
     "metadata": {},
     "output_type": "execute_result"
    }
   ],
   "source": [
    "for col in agg_diff.columns:\n",
    "    agg_diff[col] = agg_diff[col].astype(str)\n",
    "\n",
    "scl = [[0.0, 'rgb(220,170,220)'], [1.0, 'rgb(130,70,130)']]\n",
    "\n",
    "agg_diff['text'] = agg_diff.index + '<br>' + 'Health score difference '+ agg_diff['GENHLTH']\n",
    "\n",
    "data = [dict(type='choropleth',\n",
    "             colorscale = scl,\n",
    "             autocolorscale = False,\n",
    "             locations = agg_diff.index,\n",
    "             z = agg_diff['GENHLTH'].astype(float),\n",
    "             locationmode = 'USA-states',\n",
    "             text = agg_diff['text'],\n",
    "             marker = dict(line = dict (color = 'rgb(255,255,255)', width = 2)),\n",
    "             colorbar = dict(title = 'Difference in<br>mean health score'))]\n",
    "\n",
    "layout = dict(title = ('Difference in Self-Reported General Health<br>' +\n",
    "                       'for individuals with and without a depressive disorder by State'),\n",
    "              geo = dict(scope='usa',\n",
    "                         projection=dict( type='albers usa' ),\n",
    "                         showlakes = True,\n",
    "                         lakecolor = 'rgb(255, 255, 255)'))\n",
    "    \n",
    "fig = dict(data=data, layout=layout)\n",
    "py.iplot(fig, filename='depressive-map')"
   ]
  },
  {
   "cell_type": "markdown",
   "metadata": {},
   "source": [
    "Static copy of the image:"
   ]
  },
  {
   "cell_type": "markdown",
   "metadata": {},
   "source": [
    "<img src='depressive-map.png'>"
   ]
  },
  {
   "cell_type": "code",
   "execution_count": 11,
   "metadata": {
    "collapsed": true
   },
   "outputs": [],
   "source": [
    "factor = 'Exercises'\n",
    "filtered_df = filter_for_map(2016, factor)\n",
    "agg_true = filtered_df[['State', 'GENHLTH']][filtered_df[factor] == True].groupby('State').agg(np.mean)\n",
    "agg_false = filtered_df[['State', 'GENHLTH']][filtered_df[factor] == False].groupby('State').agg(np.mean)\n",
    "agg_diff = agg_false - agg_true"
   ]
  },
  {
   "cell_type": "code",
   "execution_count": 12,
   "metadata": {},
   "outputs": [
    {
     "data": {
      "text/html": [
       "<iframe id=\"igraph\" scrolling=\"no\" style=\"border:none;\" seamless=\"seamless\" src=\"https://plot.ly/~mshu1/18.embed\" height=\"525px\" width=\"100%\"></iframe>"
      ],
      "text/plain": [
       "<plotly.tools.PlotlyDisplay object>"
      ]
     },
     "execution_count": 12,
     "metadata": {},
     "output_type": "execute_result"
    }
   ],
   "source": [
    "for col in agg_diff.columns:\n",
    "    agg_diff[col] = agg_diff[col].astype(str)\n",
    "\n",
    "scl = [[0.0, 'rgb(180,180,230)'], [1.0, 'rgb(80,80,150)']]\n",
    "\n",
    "agg_diff['text'] = agg_diff.index + '<br>' + 'Health score difference '+ agg_diff['GENHLTH']\n",
    "\n",
    "data = [dict(type='choropleth',\n",
    "             colorscale = scl,\n",
    "             autocolorscale = False,\n",
    "             locations = agg_diff.index,\n",
    "             z = agg_diff['GENHLTH'].astype(float),\n",
    "             locationmode = 'USA-states',\n",
    "             text = agg_diff['text'],\n",
    "             marker = dict(line = dict (color = 'rgb(255,255,255)', width = 2)),\n",
    "             colorbar = dict(title = 'Difference in<br>mean health score'))]\n",
    "\n",
    "layout = dict(title = ('Difference in Self-Reported General Health<br>' +\n",
    "                       'for individuals with and without regular exercise by State'),\n",
    "              geo = dict(scope='usa',\n",
    "                         projection=dict( type='albers usa' ),\n",
    "                         showlakes = True,\n",
    "                         lakecolor = 'rgb(255, 255, 255)'))\n",
    "    \n",
    "fig = dict(data=data, layout=layout)\n",
    "py.iplot(fig, filename='exercise-map')"
   ]
  },
  {
   "cell_type": "markdown",
   "metadata": {},
   "source": [
    "Static copy of the image:"
   ]
  },
  {
   "cell_type": "markdown",
   "metadata": {},
   "source": [
    "<img src='exercise-map.png'>"
   ]
  },
  {
   "cell_type": "code",
   "execution_count": null,
   "metadata": {
    "collapsed": true
   },
   "outputs": [],
   "source": []
  }
 ],
 "metadata": {
  "kernelspec": {
   "display_name": "Python 3",
   "language": "python",
   "name": "python3"
  },
  "language_info": {
   "codemirror_mode": {
    "name": "ipython",
    "version": 3
   },
   "file_extension": ".py",
   "mimetype": "text/x-python",
   "name": "python",
   "nbconvert_exporter": "python",
   "pygments_lexer": "ipython3",
   "version": "3.6.3"
  }
 },
 "nbformat": 4,
 "nbformat_minor": 2
}
