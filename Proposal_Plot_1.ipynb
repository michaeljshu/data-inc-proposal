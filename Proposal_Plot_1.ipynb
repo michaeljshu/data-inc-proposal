{
 "cells": [
  {
   "cell_type": "code",
   "execution_count": 1,
   "metadata": {
    "collapsed": true
   },
   "outputs": [],
   "source": [
    "import numpy as np\n",
    "import pandas as pd\n",
    "import plotly.plotly as py"
   ]
  },
  {
   "cell_type": "code",
   "execution_count": 2,
   "metadata": {
    "collapsed": true
   },
   "outputs": [],
   "source": [
    "layout = pd.read_csv('/home/michael/Documents/brfss2016_layout.csv',\n",
    "                    names=['StartCol', 'Name', 'Length'])\n",
    "keep_columns = ['_STATE', 'GENHLTH', 'PHYSHLTH', 'MENTHLTH', '_PHYS14D', '_MENT14D', 'POORHLTH',\n",
    "               'HLTHPLN1', 'PERSDOC2', 'EDUCA', '_BMI5', '_BMI5CAT', '_RFBMI5',\n",
    "               '_INCOMG', 'SLEPTIM1', '_SMOKER3', '_RFSMOK3', '_RFDRHV5', 'DRNKANY5', 'EXERANY2']\n",
    "layout_filtered = layout[layout['Name'].isin(keep_columns)]\n",
    "colspecs = list(zip(layout_filtered['StartCol'] - 1,\n",
    "                    layout_filtered['StartCol'] + layout_filtered['Length'] - 1))"
   ]
  },
  {
   "cell_type": "code",
   "execution_count": 4,
   "metadata": {
    "collapsed": true
   },
   "outputs": [],
   "source": [
    "df = pd.read_fwf('/home/michael/Documents/LLCP2016.asc', colspecs=colspecs,\n",
    "                header=None, names=layout_filtered['Name'])\n",
    "df = df[~df['_STATE'].isin([11, 66, 72, 78])] # Drop DC, Guam, Puerto Rico, Virgin Islands\n",
    "state_code = np.sort(df['_STATE'].unique())\n",
    "state_abbrev = ['AL', 'AK', 'AZ', 'AR', 'CA', 'CO', 'CT', 'DE', 'FL', 'GA',\n",
    "                'HI', 'ID', 'IL', 'IN', 'IA', 'KS', 'KY', 'LA', 'ME', 'MD',\n",
    "                'MA', 'MI', 'MN', 'MS', 'MO', 'MT', 'NE', 'NV', 'NH', 'NJ',\n",
    "                'NM', 'NY', 'NC', 'ND', 'OH', 'OK', 'OR', 'PA', 'RI', 'SC',\n",
    "                'SD', 'TN', 'TX', 'UT', 'VT', 'VA', 'WA', 'WV', 'WI', 'WY']\n",
    "state_dict = dict(zip(state_code, state_abbrev))\n",
    "df['STCODE'] = df['_STATE'].replace(state_dict)"
   ]
  },
  {
   "cell_type": "code",
   "execution_count": 5,
   "metadata": {
    "collapsed": true
   },
   "outputs": [],
   "source": [
    "df_filter = df[df['GENHLTH'].isin([1,2,3,4,5]) & df['_RFBMI5'].isin([1,2])]\n",
    "agg_genhlth_not_ow = df_filter[['STCODE', 'GENHLTH']][df_filter['_RFBMI5'] == 1].groupby('STCODE').agg(np.mean)\n",
    "agg_genhlth_ow = df_filter[['STCODE', 'GENHLTH']][df_filter['_RFBMI5'] == 2].groupby('STCODE').agg(np.mean)\n",
    "agg_ow = agg_genhlth_ow - agg_genhlth_not_ow"
   ]
  },
  {
   "cell_type": "code",
   "execution_count": 9,
   "metadata": {},
   "outputs": [
    {
     "data": {
      "text/html": [
       "<iframe id=\"igraph\" scrolling=\"no\" style=\"border:none;\" seamless=\"seamless\" src=\"https://plot.ly/~mshu1/4.embed\" height=\"525px\" width=\"100%\"></iframe>"
      ],
      "text/plain": [
       "<plotly.tools.PlotlyDisplay object>"
      ]
     },
     "execution_count": 9,
     "metadata": {},
     "output_type": "execute_result"
    }
   ],
   "source": [
    "for col in agg_ow.columns:\n",
    "    agg_ow[col] = agg_ow[col].astype(str)\n",
    "\n",
    "scl = [[0.0, 'rgb(180,230,180)'], [1.0, 'rgb(80,150,80)']]\n",
    "\n",
    "agg_ow['text'] = agg_ow.index + '<br>' + 'GENHLTH difference '+ agg_ow['GENHLTH']\n",
    "\n",
    "data = [dict(type='choropleth',\n",
    "             colorscale = scl,\n",
    "             autocolorscale = False,\n",
    "             locations = agg_ow.index,\n",
    "             z = agg_ow['GENHLTH'].astype(float),\n",
    "             locationmode = 'USA-states',\n",
    "             text = agg_ow['text'],\n",
    "             marker = dict(line = dict (color = 'rgb(255,255,255)', width = 2)),\n",
    "             colorbar = dict(title = 'Difference in<br>mean health score'))]\n",
    "\n",
    "layout = dict(title = ('Difference in Self-Reported General Health<br>' +\n",
    "                       'for Overweight and Non-Overweight Individuals by State'),\n",
    "              geo = dict(scope='usa',\n",
    "                         projection=dict( type='albers usa' ),\n",
    "                         showlakes = True,\n",
    "                         lakecolor = 'rgb(255, 255, 255)'))\n",
    "    \n",
    "fig = dict(data=data, layout=layout)\n",
    "py.iplot(fig, filename='genhlth-ow-cloropleth-map')"
   ]
  },
  {
   "cell_type": "code",
   "execution_count": null,
   "metadata": {
    "collapsed": true
   },
   "outputs": [],
   "source": []
  }
 ],
 "metadata": {
  "kernelspec": {
   "display_name": "Python 3",
   "language": "python",
   "name": "python3"
  },
  "language_info": {
   "codemirror_mode": {
    "name": "ipython",
    "version": 3
   },
   "file_extension": ".py",
   "mimetype": "text/x-python",
   "name": "python",
   "nbconvert_exporter": "python",
   "pygments_lexer": "ipython3",
   "version": "3.6.2"
  }
 },
 "nbformat": 4,
 "nbformat_minor": 2
}
