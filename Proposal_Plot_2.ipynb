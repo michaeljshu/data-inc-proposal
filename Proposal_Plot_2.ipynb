{
 "cells": [
  {
   "cell_type": "code",
   "execution_count": 1,
   "metadata": {
    "collapsed": true
   },
   "outputs": [],
   "source": [
    "import numpy as np\n",
    "import pandas as pd\n",
    "import matplotlib.pyplot as plt\n",
    "import matplotlib.cm as cm"
   ]
  },
  {
   "cell_type": "code",
   "execution_count": 2,
   "metadata": {
    "collapsed": true
   },
   "outputs": [],
   "source": [
    "layout = pd.read_csv('/home/michael/Documents/brfss2016_layout.csv',\n",
    "                    names=['StartCol', 'Name', 'Length'])\n",
    "keep_columns = ['_STATE', 'GENHLTH', 'PHYSHLTH', 'MENTHLTH', '_PHYS14D', '_MENT14D', 'POORHLTH',\n",
    "               'HLTHPLN1', 'PERSDOC2', 'EDUCA', '_BMI5', '_BMI5CAT', '_RFBMI5',\n",
    "               '_INCOMG', 'SLEPTIM1', '_SMOKER3', '_RFSMOK3', '_RFDRHV5', 'DRNKANY5', 'EXERANY2']\n",
    "layout_filtered = layout[layout['Name'].isin(keep_columns)]\n",
    "colspecs = list(zip(layout_filtered['StartCol'] - 1,\n",
    "                    layout_filtered['StartCol'] + layout_filtered['Length'] - 1))"
   ]
  },
  {
   "cell_type": "code",
   "execution_count": 3,
   "metadata": {
    "collapsed": true
   },
   "outputs": [],
   "source": [
    "df = pd.read_fwf('/home/michael/Documents/LLCP2016.asc', colspecs=colspecs,\n",
    "                header=None, names=layout_filtered['Name'])\n",
    "df = df[~df['_STATE'].isin([11, 66, 72, 78])] # Drop DC, Guam, Puerto Rico, Virgin Islands\n",
    "state_code = np.sort(df['_STATE'].unique())\n",
    "state_abbrev = ['AL', 'AK', 'AZ', 'AR', 'CA', 'CO', 'CT', 'DE', 'FL', 'GA',\n",
    "                'HI', 'ID', 'IL', 'IN', 'IA', 'KS', 'KY', 'LA', 'ME', 'MD',\n",
    "                'MA', 'MI', 'MN', 'MS', 'MO', 'MT', 'NE', 'NV', 'NH', 'NJ',\n",
    "                'NM', 'NY', 'NC', 'ND', 'OH', 'OK', 'OR', 'PA', 'RI', 'SC',\n",
    "                'SD', 'TN', 'TX', 'UT', 'VT', 'VA', 'WA', 'WV', 'WI', 'WY']\n",
    "state_dict = dict(zip(state_code, state_abbrev))\n",
    "df['STCODE'] = df['_STATE'].replace(state_dict)"
   ]
  },
  {
   "cell_type": "code",
   "execution_count": 5,
   "metadata": {},
   "outputs": [],
   "source": [
    "layout11 = pd.read_csv('/home/michael/Documents/brfss2011_layout.csv',\n",
    "                      names=['StartCol', 'Name', 'Length'])\n",
    "colspecs = list(zip(layout11['StartCol'] - 1,\n",
    "                    layout11['StartCol'] + layout11['Length'] - 1))\n",
    "df11 = pd.read_fwf('/home/michael/Documents/LLCP2011.ASC', colspecs=colspecs,\n",
    "                header=None, names=layout11['Name'])\n",
    "df11 = df11[~df11['_STATE'].isin([11, 66, 72])] # Drop DC, Guam, Puerto Rico\n",
    "df11['STCODE'] = df11['_STATE'].replace(state_dict)"
   ]
  },
  {
   "cell_type": "code",
   "execution_count": 6,
   "metadata": {},
   "outputs": [
    {
     "name": "stdout",
     "output_type": "stream",
     "text": [
      "\n",
      "2016:\n",
      "Mean GENHLTH for NonDrinker = True: 2.7959100905378\n",
      "Mean GENHLTH for NonDrinker = False: 2.3454078526113173\n",
      "Difference = -0.4505022379264827\n",
      "Mean GENHLTH for NonSmoker = True: 2.483533283721973\n",
      "Mean GENHLTH for NonSmoker = False: 2.944956041282969\n",
      "Difference = 0.46142275756099593\n",
      "Mean GENHLTH for NotOverweight = True: 2.3085063710303744\n",
      "Mean GENHLTH for NotOverweight = False: 2.6634817584669617\n",
      "Difference = 0.3549753874365873\n",
      "Mean GENHLTH for Exercise = True: 2.3692626757071933\n",
      "Mean GENHLTH for Exercise = False: 3.1258247294237456\n",
      "Difference = 0.7565620537165523\n",
      "\n",
      "2011:\n",
      "Mean GENHLTH for NonDrinker = True: 3.1661939099825704\n",
      "Mean GENHLTH for NonDrinker = False: 2.6925486919743093\n",
      "Difference = -0.4736452180082611\n",
      "Mean GENHLTH for NonSmoker = True: 2.9329007818167163\n",
      "Mean GENHLTH for NonSmoker = False: 2.8002230275996656\n",
      "Difference = -0.13267775421705075\n",
      "Mean GENHLTH for NotOverweight = True: 2.7627157564392055\n",
      "Mean GENHLTH for NotOverweight = False: 2.9827919100255826\n",
      "Difference = 0.2200761535863771\n",
      "Mean GENHLTH for Exercise = True: 2.7304295970091057\n",
      "Mean GENHLTH for Exercise = False: 3.201969621098314\n",
      "Difference = 0.4715400240892085\n"
     ]
    }
   ],
   "source": [
    "df_16 = df[['GENHLTH', '_INCOMG', 'STCODE', 'SLEPTIM1', '_RFSMOK3', 'DRNKANY5',\n",
    "             'EXERANY2', '_RFBMI5', '_PHYS14D', '_MENT14D']]\n",
    "df_16 = df_16[df_16['GENHLTH'].isin([1,2,3,4,5]) &\n",
    "              df_16['_INCOMG'].isin([1,2,3,4,5]) &\n",
    "              df_16['_RFSMOK3'].isin([1,2]) &\n",
    "              df_16['DRNKANY5'].isin([1,2]) &\n",
    "              df_16['EXERANY2'].isin([1,2])]\n",
    "df_16['NonSmoker'] = df_16['_RFSMOK3'] == 1\n",
    "df_16['NonDrinker'] = df_16['DRNKANY5'] == 2\n",
    "df_16['Exercise'] = df_16['EXERANY2'] == 1\n",
    "df_16['NotOverweight'] = df_16['_RFBMI5'] == 1\n",
    "\n",
    "fit_vars = ['NonDrinker', 'NonSmoker', 'NotOverweight', 'Exercise']\n",
    "agg_5yr = np.zeros((2, len(fit_vars)))\n",
    "\n",
    "print('\\n2016:')\n",
    "col = 0\n",
    "for var in fit_vars:\n",
    "    truelevel = np.mean(df_16['GENHLTH'][df_16[var] == True])\n",
    "    falselevel = np.mean(df_16['GENHLTH'][df_16[var] == False])\n",
    "    print('Mean GENHLTH for {} = True: {}'.format(var, truelevel))\n",
    "    print('Mean GENHLTH for {} = False: {}'.format(var, falselevel))\n",
    "    print('Difference = {}'.format(falselevel - truelevel))\n",
    "    agg_5yr[1, col] = falselevel - truelevel\n",
    "    col += 1\n",
    "    \n",
    "df_11 = df11[['GENHLTH', '_INCOMG', 'STCODE', '_RFSMOK3', 'DRNKANY5',\n",
    "             'EXERANY2', '_RFBMI5']]\n",
    "df_11 = df_11[df_11['GENHLTH'].isin([1,2,3,4,5]) &\n",
    "              df_11['_INCOMG'].isin([1,2,3,4,5]) &\n",
    "              df_11['_RFSMOK3'].isin([1,2]) &\n",
    "              df_11['DRNKANY5'].isin([1,2]) &\n",
    "              df_11['EXERANY2'].isin([1,2])]\n",
    "df_11['NonSmoker'] = df_11['_RFSMOK3'] == 1\n",
    "df_11['NonDrinker'] = df_11['DRNKANY5'] == 2\n",
    "df_11['Exercise'] = df_11['EXERANY2'] == 1\n",
    "df_11['NotOverweight'] = df_11['_RFBMI5'] == 1\n",
    "\n",
    "print('\\n2011:')\n",
    "col = 0\n",
    "for var in fit_vars:\n",
    "    truelevel = np.mean(df_11['GENHLTH'][df_11[var] == True])\n",
    "    falselevel = np.mean(df_11['GENHLTH'][df_11[var] == False])\n",
    "    print('Mean GENHLTH for {} = True: {}'.format(var, truelevel))\n",
    "    print('Mean GENHLTH for {} = False: {}'.format(var, falselevel))\n",
    "    print('Difference = {}'.format(falselevel - truelevel))\n",
    "    agg_5yr[0, col] = falselevel - truelevel\n",
    "    col += 1"
   ]
  },
  {
   "cell_type": "code",
   "execution_count": 11,
   "metadata": {},
   "outputs": [
    {
     "data": {
      "image/png": "[encoded data removed]",
      "text/plain": [
       "<matplotlib.figure.Figure at 0x7f1a30d8b978>"
      ]
     },
     "metadata": {},
     "output_type": "display_data"
    }
   ],
   "source": [
    "fig = plt.figure(figsize=(10,8))\n",
    "ax = fig.add_subplot(111)\n",
    "\n",
    "space = 0.3\n",
    "\n",
    "conditions = fit_vars\n",
    "categories = ['2011', '2016']\n",
    "\n",
    "n = len(conditions)\n",
    "\n",
    "width = (1 - space) / (len(conditions))\n",
    "\n",
    "for i, cond in enumerate(conditions):\n",
    "    vals = agg_5yr[:, i]\n",
    "    pos = [j - (1 - space) / 2. + i * width for j in range(1, len(categories)+1)]\n",
    "    ax.bar(pos, vals, width=width, label=cond, color=cm.Accent(float(i) / n))\n",
    "\n",
    "ax.set_xticks(range(1, len(categories)+1))\n",
    "ax.set_xticklabels(categories)\n",
    "ax.set_xlabel('Year')\n",
    "ax.set_ylabel('Difference in General Health Score')\n",
    "\n",
    "handles, labels = ax.get_legend_handles_labels()\n",
    "ax.legend(handles[::-1], labels[::-1], loc='center left', bbox_to_anchor=(1, 0.5))\n",
    "plt.show()"
   ]
  },
  {
   "cell_type": "code",
   "execution_count": null,
   "metadata": {
    "collapsed": true
   },
   "outputs": [],
   "source": []
  }
 ],
 "metadata": {
  "kernelspec": {
   "display_name": "Python 3",
   "language": "python",
   "name": "python3"
  },
  "language_info": {
   "codemirror_mode": {
    "name": "ipython",
    "version": 3
   },
   "file_extension": ".py",
   "mimetype": "text/x-python",
   "name": "python",
   "nbconvert_exporter": "python",
   "pygments_lexer": "ipython3",
   "version": "3.6.2"
  }
 },
 "nbformat": 4,
 "nbformat_minor": 2
}
