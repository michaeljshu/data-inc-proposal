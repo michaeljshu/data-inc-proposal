{
 "cells": [
  {
   "cell_type": "code",
   "execution_count": 1,
   "metadata": {
    "collapsed": true
   },
   "outputs": [],
   "source": [
    "import numpy as np\n",
    "import pandas as pd\n",
    "import matplotlib.pyplot as plt\n",
    "import matplotlib.cm as cm"
   ]
  },
  {
   "cell_type": "code",
   "execution_count": 3,
   "metadata": {},
   "outputs": [],
   "source": [
    "layout = pd.read_csv('/home/michael/Documents/brfss2016_layout.csv',\n",
    "                    names=['StartCol', 'Name', 'Length'])\n",
    "keep_columns = ['_STATE', 'GENHLTH', '_RFBMI5', 'SLEPTIM1', '_RFSMOK3', 'DRNKANY5', 'EXERANY2']\n",
    "layout_filtered = layout[layout['Name'].isin(keep_columns)]\n",
    "colspecs = list(zip(layout_filtered['StartCol'] - 1,\n",
    "                    layout_filtered['StartCol'] + layout_filtered['Length'] - 1))\n",
    "df16 = pd.read_fwf('/home/michael/Documents/LLCP2016.asc', colspecs=colspecs,\n",
    "                   header=None, names=layout_filtered['Name'])\n",
    "df16 = df16[~df16['_STATE'].isin([11, 66, 72, 78])] # Drop DC, Guam, Puerto Rico, Virgin Islands\n",
    "state_code = np.sort(df16['_STATE'].unique())\n",
    "state_abbrev = ['AL', 'AK', 'AZ', 'AR', 'CA', 'CO', 'CT', 'DE', 'FL', 'GA',\n",
    "                'HI', 'ID', 'IL', 'IN', 'IA', 'KS', 'KY', 'LA', 'ME', 'MD',\n",
    "                'MA', 'MI', 'MN', 'MS', 'MO', 'MT', 'NE', 'NV', 'NH', 'NJ',\n",
    "                'NM', 'NY', 'NC', 'ND', 'OH', 'OK', 'OR', 'PA', 'RI', 'SC',\n",
    "                'SD', 'TN', 'TX', 'UT', 'VT', 'VA', 'WA', 'WV', 'WI', 'WY']\n",
    "state_dict = dict(zip(state_code, state_abbrev))\n",
    "df16['STCODE'] = df16['_STATE'].replace(state_dict)"
   ]
  },
  {
   "cell_type": "code",
   "execution_count": 6,
   "metadata": {},
   "outputs": [],
   "source": [
    "layout = pd.read_csv('/home/michael/Documents/brfss2011_layout.csv',\n",
    "                     names=['StartCol', 'Name', 'Length'])\n",
    "keep_columns = ['_STATE', 'GENHLTH', '_RFBMI5', 'SLEPTIM1', '_RFSMOK3', 'DRNKANY5', 'EXERANY2']\n",
    "layout_filtered = layout[layout['Name'].isin(keep_columns)]\n",
    "colspecs = list(zip(layout['StartCol'] - 1,\n",
    "                    layout['StartCol'] + layout['Length'] - 1))\n",
    "df11 = pd.read_fwf('/home/michael/Documents/LLCP2011.ASC', colspecs=colspecs,\n",
    "                header=None, names=layout['Name'])\n",
    "df11 = df11[~df11['_STATE'].isin([11, 66, 72])] # Drop DC, Guam, Puerto Rico\n",
    "df11['STCODE'] = df11['_STATE'].replace(state_dict)"
   ]
  },
  {
   "cell_type": "code",
   "execution_count": 8,
   "metadata": {},
   "outputs": [
    {
     "name": "stdout",
     "output_type": "stream",
     "text": [
      "2011\n",
      "Mean GENHLTH for NonDrinker = True: 3.1725637360019063\n",
      "Mean GENHLTH for NonDrinker = False: 2.7009619210335387\n",
      "Difference = -0.4716018149683676\n",
      "Mean GENHLTH for NonSmoker = True: 2.943372677673573\n",
      "Mean GENHLTH for NonSmoker = False: 2.8116931295444427\n",
      "Difference = -0.1316795481291302\n",
      "Mean GENHLTH for NotOverweight = True: 2.7746521374685664\n",
      "Mean GENHLTH for NotOverweight = False: 2.9943629243943373\n",
      "Difference = 0.21971078692577084\n",
      "Mean GENHLTH for Exercise = True: 2.7391233168256046\n",
      "Mean GENHLTH for Exercise = False: 3.2101177242409884\n",
      "Difference = 0.4709944074153838\n",
      "2016\n",
      "Mean GENHLTH for NonDrinker = True: 2.802068946209265\n",
      "Mean GENHLTH for NonDrinker = False: 2.353456370756615\n",
      "Difference = -0.44861257545264976\n",
      "Mean GENHLTH for NonSmoker = True: 2.501760173698578\n",
      "Mean GENHLTH for NonSmoker = False: 2.9583301719297714\n",
      "Difference = 0.45656999823119326\n",
      "Mean GENHLTH for NotOverweight = True: 2.3316422087474438\n",
      "Mean GENHLTH for NotOverweight = False: 2.6775286552611974\n",
      "Difference = 0.34588644651375366\n",
      "Mean GENHLTH for Exercise = True: 2.3812664788935183\n",
      "Mean GENHLTH for Exercise = False: 3.1289165015264313\n",
      "Difference = 0.747650022632913\n"
     ]
    }
   ],
   "source": [
    "filtered_dfs = [[],[]]\n",
    "categories = ['2011', '2016']\n",
    "\n",
    "for i, df in enumerate([df11, df16]):\n",
    "    filtered_dfs[i] = df[['GENHLTH', 'STCODE', '_RFSMOK3', 'DRNKANY5', 'EXERANY2', '_RFBMI5',]]\n",
    "    filtered_dfs[i] = filtered_dfs[i][filtered_dfs[i]['GENHLTH'].isin([1,2,3,4,5]) &\n",
    "                                      filtered_dfs[i]['_RFSMOK3'].isin([1,2]) &\n",
    "                                      filtered_dfs[i]['DRNKANY5'].isin([1,2]) &\n",
    "                                      filtered_dfs[i]['EXERANY2'].isin([1,2])]\n",
    "    filtered_dfs[i]['NonSmoker'] = filtered_dfs[i]['_RFSMOK3'] == 1\n",
    "    filtered_dfs[i]['NonDrinker'] = filtered_dfs[i]['DRNKANY5'] == 2\n",
    "    filtered_dfs[i]['Exercise'] = filtered_dfs[i]['EXERANY2'] == 1\n",
    "    filtered_dfs[i]['NotOverweight'] = filtered_dfs[i]['_RFBMI5'] == 1\n",
    "\n",
    "fit_vars = ['NonDrinker', 'NonSmoker', 'NotOverweight', 'Exercise']\n",
    "agg_5yr = np.zeros((2, len(fit_vars)))\n",
    "\n",
    "for i, df in enumerate(filtered_dfs):\n",
    "    print(categories[i])\n",
    "    col = 0\n",
    "    for var in fit_vars:\n",
    "        truelevel = np.mean(df['GENHLTH'][df[var] == True])\n",
    "        falselevel = np.mean(df['GENHLTH'][df[var] == False])\n",
    "        print('Mean GENHLTH for {} = True: {}'.format(var, truelevel))\n",
    "        print('Mean GENHLTH for {} = False: {}'.format(var, falselevel))\n",
    "        print('Difference = {}'.format(falselevel - truelevel))\n",
    "        agg_5yr[i, col] = falselevel - truelevel\n",
    "        col += 1"
   ]
  },
  {
   "cell_type": "code",
   "execution_count": 9,
   "metadata": {},
   "outputs": [
    {
     "data": {
      "image/png": "[encoded data removed]",
      "text/plain": [
       "<matplotlib.figure.Figure at 0x7fe9df7ea940>"
      ]
     },
     "metadata": {},
     "output_type": "display_data"
    }
   ],
   "source": [
    "fig = plt.figure(figsize=(10,8))\n",
    "ax = fig.add_subplot(111)\n",
    "\n",
    "space = 0.3\n",
    "\n",
    "n = len(fit_vars)\n",
    "\n",
    "width = (1 - space) / (len(fit_vars))\n",
    "\n",
    "for i, var in enumerate(fit_vars):\n",
    "    vals = agg_5yr[:, i]\n",
    "    pos = [j - (1 - space) / 2. + i * width for j in range(1, len(categories)+1)]\n",
    "    ax.bar(pos, vals, width=width, label=var, color=cm.Accent(float(i) / n))\n",
    "\n",
    "ax.set_xticks(range(1, len(categories)+1))\n",
    "ax.set_xticklabels(categories)\n",
    "ax.set_xlabel('Year')\n",
    "ax.set_ylabel('Difference in General Health Score')\n",
    "ax.set_title('Difference in Self-Reported General Health between Listed Class and Opposite Class')\n",
    "\n",
    "handles, labels = ax.get_legend_handles_labels()\n",
    "ax.legend(handles[::-1], labels[::-1], loc='center left', bbox_to_anchor=(1, 0.5))\n",
    "plt.show()"
   ]
  },
  {
   "cell_type": "code",
   "execution_count": null,
   "metadata": {
    "collapsed": true
   },
   "outputs": [],
   "source": []
  }
 ],
 "metadata": {
  "kernelspec": {
   "display_name": "Python 3",
   "language": "python",
   "name": "python3"
  },
  "language_info": {
   "codemirror_mode": {
    "name": "ipython",
    "version": 3
   },
   "file_extension": ".py",
   "mimetype": "text/x-python",
   "name": "python",
   "nbconvert_exporter": "python",
   "pygments_lexer": "ipython3",
   "version": "3.6.2"
  }
 },
 "nbformat": 4,
 "nbformat_minor": 2
}
